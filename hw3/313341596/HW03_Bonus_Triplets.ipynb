{
 "cells": [
  {
   "cell_type": "code",
   "execution_count": 29,
   "metadata": {
    "collapsed": true
   },
   "outputs": [],
   "source": [
    "import numpy as np\n",
    "import scipy as sp\n",
    "import matplotlib.pyplot as plt\n",
    "import pandas as pd\n",
    "\n",
    "from sklearn import datasets\n",
    "from sklearn.model_selection import train_test_split\n",
    "from sklearn.linear_model import Perceptron"
   ]
  },
  {
   "cell_type": "code",
   "execution_count": 30,
   "metadata": {
    "collapsed": true
   },
   "outputs": [],
   "source": [
    "heldout = [0.95, 0.90, 0.75, 0.50, 0.25, 0.1, 0.01]\n",
    "rounds = 100\n",
    "rng = np.random.RandomState(42)\n",
    "\n",
    "xx = 1. - np.array(heldout)"
   ]
  },
  {
   "cell_type": "code",
   "execution_count": 31,
   "metadata": {
    "collapsed": true
   },
   "outputs": [],
   "source": [
    "def estimate_error(classifier, dataset, test_size, rounds):\n",
    "    yy_ = []\n",
    "    for r in range(rounds):\n",
    "        #print \"round {}/{}\".format(r+1, rounds)\n",
    "        X, y = dataset.data, dataset.target\n",
    "        X_train, X_test, y_train, y_test = \\\n",
    "            train_test_split(X, y, test_size=test_size, random_state=rng)\n",
    "        classifier.fit(X_train, y_train)\n",
    "        y_pred = classifier.predict(X_test)\n",
    "        #print y_pred\n",
    "        yy_.append(1 - np.mean(y_pred == y_test))\n",
    "    return np.mean(yy_)"
   ]
  },
  {
   "cell_type": "code",
   "execution_count": 32,
   "metadata": {
    "collapsed": true
   },
   "outputs": [],
   "source": [
    "def compare_classifiers_on_dataset(classifiers, dataset, dataset_name):\n",
    "    for name, clf in classifiers:\n",
    "        print(\"training %s on %s\" % (name, dataset_name))\n",
    "        yy = []\n",
    "        for i in heldout:\n",
    "            yy.append(estimate_error(clf, dataset, i, rounds))\n",
    "        plt.plot(xx, yy, linestyle='--', dashes=np.random.randint(5, 10, size=6), label=name)\n",
    "    \n",
    "    plt.legend(title=dataset_name, loc=\"upper right\")\n",
    "    plt.xlabel(\"Proportion train\")\n",
    "    plt.ylabel(\"Test Error Rate\")\n",
    "    plt.show()"
   ]
  },
  {
   "cell_type": "code",
   "execution_count": 33,
   "metadata": {
    "collapsed": true
   },
   "outputs": [],
   "source": [
    "iris = datasets.load_iris()\n",
    "digits = datasets.load_digits()\n",
    "\n",
    "test_datasets = [\n",
    "    (\"Iris\", iris),\n",
    "    (\"Digits\", digits)\n",
    "]"
   ]
  },
  {
   "cell_type": "code",
   "execution_count": 54,
   "metadata": {
    "collapsed": true
   },
   "outputs": [],
   "source": [
    "class WidrowHoffClassifier():\n",
    "    def __init__(self, rate_exp = 4, n_iter_10 = 3):\n",
    "        # params are \"simplified\" for easier use with hyperopt\n",
    "        self.rate_exp = rate_exp\n",
    "        self.rate = 10 ** (-1*rate_exp)\n",
    "        self.n_iter_10 = n_iter_10\n",
    "        self.n_iter = int(n_iter_10*10)\n",
    "\n",
    "    def fit(self, X, y):\n",
    "        self.weight = np.zeros(1 + X.shape[1])\n",
    "        self.errors = []\n",
    "        self.cost = []\n",
    "        for i in range(self.n_iter):\n",
    "            output = self.decision_function(X)\n",
    "            errors = y - output\n",
    "            self.weight[1:] += self.rate * X.T.dot(errors)\n",
    "            self.weight[0] += self.rate * errors.sum()\n",
    "            cost = (errors**2).sum() / 2.0\n",
    "            self.cost.append(cost)\n",
    "        return self\n",
    "\n",
    "    def decision_function(self, X):\n",
    "        return np.dot(X, self.weight[1:]) + self.weight[0]\n",
    "\n",
    "    def predict(self, X):\n",
    "        return np.where(self.decision_function(X) >= 0.0, 1, -1)\n",
    "    \n",
    "    def get_params(self, deep=True):\n",
    "        return {\"rate_exp\": self.rate_exp, \"n_iter_10\": self.n_iter_10}"
   ]
  },
  {
   "cell_type": "code",
   "execution_count": 55,
   "metadata": {
    "collapsed": true
   },
   "outputs": [],
   "source": [
    "############################################################################################################\n",
    "# sklearn offers \"OneVsRest\", but it only works on sklearn estimators [require more function than we have implemented for Widrow-Hoff].\n",
    "# we compared the two on various classifiers, they both give the same exact classifications... :)\n",
    "############################################################################################################\n",
    "class BinaryToOneVsAllAdapter():\n",
    "    def __init__(self, binary_classifier):\n",
    "        self.original_classifier = binary_classifier\n",
    "        \n",
    "    def fit(self, X, y):\n",
    "        from sklearn.base import clone\n",
    "        self.class_type = y.dtype\n",
    "        Y = pd.Series(y).astype(\"string\").str.get_dummies().replace(0,-1)\n",
    "        # get a dictionary of Class => Binary classifier\n",
    "        self.binary_classifier_per_class = {}\n",
    "        for cls in Y.columns:\n",
    "            new_classifier = clone(self.original_classifier)\n",
    "            new_classifier.fit(X, Y[cls])\n",
    "            self.binary_classifier_per_class[cls] = new_classifier\n",
    "    \n",
    "    def predict(self, X):\n",
    "        def make_decision_function_for_sample(sample):\n",
    "            return lambda cls: self.binary_classifier_per_class[cls].decision_function([sample])\n",
    "        return np.asarray([max(self.binary_classifier_per_class, key=make_decision_function_for_sample(sample)) for sample in X], self.class_type)"
   ]
  },
  {
   "cell_type": "code",
   "execution_count": 56,
   "metadata": {
    "collapsed": true
   },
   "outputs": [],
   "source": [
    "##################################################################################\n",
    "# This code takes time to run, it finds optimal arguments for the classifiers.\n",
    "# We hardcoded the result of the run to avoid the runtime cost.\n",
    "##################################################################################\n",
    "#def hyperopt_objective(args):\n",
    "#    rate_exp, n_iter_10 = args\n",
    "#    clf = BinaryToOneVsAllAdapter(WidrowHoffClassifier(rate_exp, n_iter_10))\n",
    "#    return estimate_error(clf, iris, 0.2, 20)\n",
    "    \n",
    "#from hyperopt import fmin, tpe, hp\n",
    "#space = (hp.uniform('rate_exp', 1, 6), hp.uniform('n_iter_10', 1, 6))\n",
    "#best = fmin(hyperopt_objective, space, algo=tpe.suggest, max_evals=100)\n",
    "\n",
    "best = {'n_iter_10': 3.203077885680808, 'rate_exp': 4.154778813173185}"
   ]
  },
  {
   "cell_type": "code",
   "execution_count": 57,
   "metadata": {
    "collapsed": true
   },
   "outputs": [],
   "source": [
    "classifiers = [\n",
    "    (\"Widrow-Hoff\", BinaryToOneVsAllAdapter(WidrowHoffClassifier(best['rate_exp'], best['n_iter_10']))),\n",
    "    # sklearn's Perceptron has a built-in OvA implemented for multiclass targets\n",
    "    (\"Perceptron\", Perceptron())\n",
    "]"
   ]
  },
  {
   "cell_type": "code",
   "execution_count": 58,
   "metadata": {
    "collapsed": false,
    "scrolled": false
   },
   "outputs": [
    {
     "name": "stdout",
     "output_type": "stream",
     "text": [
      "training Widrow-Hoff on Iris\n",
      "training Perceptron on Iris\n"
     ]
    },
    {
     "data": {
      "image/png": "[encoded data removed]",
      "text/plain": [
       "<matplotlib.figure.Figure at 0x11bf48f90>"
      ]
     },
     "metadata": {},
     "output_type": "display_data"
    },
    {
     "name": "stdout",
     "output_type": "stream",
     "text": [
      "training Widrow-Hoff on Digits\n",
      "training Perceptron on Digits\n"
     ]
    },
    {
     "data": {
      "image/png": "[encoded data removed]",
      "text/plain": [
       "<matplotlib.figure.Figure at 0x11740c650>"
      ]
     },
     "metadata": {},
     "output_type": "display_data"
    }
   ],
   "source": [
    "for dataset_name, dataset in test_datasets:\n",
    "    compare_classifiers_on_dataset(classifiers, dataset, dataset_name)"
   ]
  },
  {
   "cell_type": "markdown",
   "metadata": {},
   "source": [
    "# Convergance Corner Cases\n",
    "We shall try and make evil yet simple datasets,\n",
    "that are easily fitted by one model but the other hardly converges on them.\n",
    "## \"Black-White image with single relevant pixel\"\n",
    "Let's start off with samples that have 16 features, that can be thought of as a 4x4 map of pixels.\n",
    "We will prepare a data set for which every sample's label is identical to its (1,1) pixel [that's element 5].\n",
    "It means that in a successfully fitted model the weight of this pixel needs to dominate the sum of weights of all the others"
   ]
  },
  {
   "cell_type": "code",
   "execution_count": 21,
   "metadata": {
    "collapsed": true
   },
   "outputs": [],
   "source": [
    "from collections import namedtuple\n",
    "Dataset = namedtuple('Dataset', ['data', 'target'])"
   ]
  },
  {
   "cell_type": "code",
   "execution_count": 22,
   "metadata": {
    "collapsed": false
   },
   "outputs": [
    {
     "data": {
      "text/plain": [
       "array([[ 0.,  0.,  0., ...,  0.,  0.,  0.],\n",
       "       [ 0.,  0.,  0., ...,  0.,  0.,  1.],\n",
       "       [ 0.,  0.,  0., ...,  0.,  1.,  0.],\n",
       "       ..., \n",
       "       [ 1.,  1.,  1., ...,  1.,  0.,  1.],\n",
       "       [ 1.,  1.,  1., ...,  1.,  1.,  0.],\n",
       "       [ 1.,  1.,  1., ...,  1.,  1.,  1.]])"
      ]
     },
     "execution_count": 22,
     "metadata": {},
     "output_type": "execute_result"
    }
   ],
   "source": [
    "my_set_features = np.array([np.array([float(c) for c in '{0:016b}'.format(i)]) for i in range(2**16)])\n",
    "my_set_features"
   ]
  },
  {
   "cell_type": "code",
   "execution_count": 23,
   "metadata": {
    "collapsed": false
   },
   "outputs": [
    {
     "data": {
      "text/plain": [
       "array([[-1., -1., -1., ..., -1., -1., -1.],\n",
       "       [-1., -1., -1., ..., -1., -1.,  1.],\n",
       "       [-1., -1., -1., ..., -1.,  1., -1.],\n",
       "       ..., \n",
       "       [ 1.,  1.,  1., ...,  1., -1.,  1.],\n",
       "       [ 1.,  1.,  1., ...,  1.,  1., -1.],\n",
       "       [ 1.,  1.,  1., ...,  1.,  1.,  1.]])"
      ]
     },
     "execution_count": 23,
     "metadata": {},
     "output_type": "execute_result"
    }
   ],
   "source": [
    "my_set_features[my_set_features==0.0] = -1.0\n",
    "my_set_features"
   ]
  },
  {
   "cell_type": "code",
   "execution_count": 24,
   "metadata": {
    "collapsed": false
   },
   "outputs": [
    {
     "data": {
      "text/plain": [
       "array([-1., -1., -1., ...,  1.,  1.,  1.])"
      ]
     },
     "execution_count": 24,
     "metadata": {},
     "output_type": "execute_result"
    }
   ],
   "source": [
    "my_set_labels = my_set_features[:,5]\n",
    "my_set_labels"
   ]
  },
  {
   "cell_type": "code",
   "execution_count": 25,
   "metadata": {
    "collapsed": false
   },
   "outputs": [
    {
     "name": "stdout",
     "output_type": "stream",
     "text": [
      "training Widrow-Hoff on Pixel(1,1)\n",
      "training Perceptron on Pixel(1,1)\n"
     ]
    },
    {
     "data": {
      "image/png": "[encoded data removed]",
      "text/plain": [
       "<matplotlib.figure.Figure at 0x10ce47690>"
      ]
     },
     "metadata": {},
     "output_type": "display_data"
    }
   ],
   "source": [
    "compare_classifiers_on_dataset(classifiers, Dataset(my_set_features, my_set_labels), \"Pixel(1,1)\")"
   ]
  },
  {
   "cell_type": "markdown",
   "metadata": {
    "collapsed": true
   },
   "source": [
    "## \"The 4 lines\"\n",
    "Using the proof of the convergance theorem of perceptrons, we can make a dataset that will slow the convergance significantly.\n",
    "\n",
    "The theorem says that converagnce will take O(R^2/gamma^2), where:\n",
    "* R = the maximum \"length\" of any feature vector\n",
    "* gamma = the \"buffer\" zone between positive and negative spaces on the plane\n",
    "\n",
    "So we need an input that has many \"far-away points\" (to maximize R), but also very close groups of samples where one is positive and the other is negative.\n",
    "\n",
    "we can imagine a set of samples having only 4 X-values, as 4 lines: the 2 outermost are just very far, and the 2 innermost are as close as possible to X=0, which is the exact separator of the concept we wish to learn\n",
    "\n",
    "We don't want only one feature to be relevant, so this entire set will be \"rotated\" 45 degrees."
   ]
  },
  {
   "cell_type": "code",
   "execution_count": 26,
   "metadata": {
    "collapsed": false
   },
   "outputs": [
    {
     "data": {
      "text/plain": [
       "array([[  1.00000000e+04,  -1.00000000e+04],\n",
       "       [  1.00000000e+04,  -9.99799980e+03],\n",
       "       [  1.00000000e+04,  -9.99599960e+03],\n",
       "       ..., \n",
       "       [ -1.00000000e-04,   9.99599960e+03],\n",
       "       [ -1.00000000e-04,   9.99799980e+03],\n",
       "       [ -1.00000000e-04,   1.00000000e+04]])"
      ]
     },
     "execution_count": 26,
     "metadata": {},
     "output_type": "execute_result"
    }
   ],
   "source": [
    "samples_per_line = 10000\n",
    "far_x = 1e4\n",
    "near_x = 1e-4\n",
    "line_pos_far = np.array([(far_x, y) for y in sp.r_[-far_x: far_x: 1j*samples_per_line]])\n",
    "line_neg_far = np.array([(-far_x, y) for y in sp.r_[-far_x: far_x: 1j*samples_per_line]])\n",
    "line_pos_near = np.array([(near_x, y) for y in sp.r_[-far_x: far_x: 1j*samples_per_line]])\n",
    "line_neg_near = np.array([(-near_x, y) for y in sp.r_[-far_x: far_x: 1j*samples_per_line]])\n",
    "my_set_features2 = np.concatenate((line_pos_far, line_neg_far, line_pos_near, line_neg_near))\n",
    "my_set_features2"
   ]
  },
  {
   "cell_type": "code",
   "execution_count": 27,
   "metadata": {
    "collapsed": false
   },
   "outputs": [
    {
     "data": {
      "text/plain": [
       "array([ 1.,  1.,  1., ..., -1., -1., -1.])"
      ]
     },
     "execution_count": 27,
     "metadata": {},
     "output_type": "execute_result"
    }
   ],
   "source": [
    "my_set_labels2 = np.sign(my_set_features2[:,0])\n",
    "my_set_labels2"
   ]
  },
  {
   "cell_type": "code",
   "execution_count": 28,
   "metadata": {
    "collapsed": false
   },
   "outputs": [
    {
     "name": "stdout",
     "output_type": "stream",
     "text": [
      "training Widrow-Hoff on The 4 Lines\n",
      "training Perceptron on The 4 Lines\n"
     ]
    },
    {
     "data": {
      "image/png": "[encoded data removed]",
      "text/plain": [
       "<matplotlib.figure.Figure at 0x117590a50>"
      ]
     },
     "metadata": {},
     "output_type": "display_data"
    }
   ],
   "source": [
    "compare_classifiers_on_dataset(classifiers, Dataset(my_set_features2, my_set_labels2), \"The 4 Lines\")"
   ]
  },
  {
   "cell_type": "code",
   "execution_count": null,
   "metadata": {
    "collapsed": true
   },
   "outputs": [],
   "source": []
  }
 ],
 "metadata": {
  "kernelspec": {
   "display_name": "Python 2",
   "language": "python",
   "name": "python2"
  },
  "language_info": {
   "codemirror_mode": {
    "name": "ipython",
    "version": 2
   },
   "file_extension": ".py",
   "mimetype": "text/x-python",
   "name": "python",
   "nbconvert_exporter": "python",
   "pygments_lexer": "ipython2",
   "version": "2.7.13"
  }
 },
 "nbformat": 4,
 "nbformat_minor": 2
}
