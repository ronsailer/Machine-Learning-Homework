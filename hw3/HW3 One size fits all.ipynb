{
 "cells": [
  {
   "cell_type": "code",
   "execution_count": 1,
   "metadata": {
    "collapsed": true
   },
   "outputs": [],
   "source": [
    "import math\n",
    "import numpy as np\n",
    "import pandas as pd\n",
    "import matplotlib.pyplot as plt\n",
    "\n",
    "from collections import Counter\n",
    "from itertools import combinations\n",
    "\n",
    "from sklearn import metrics\n",
    "from sklearn.linear_model import Ridge\n",
    "from sklearn.pipeline import make_pipeline\n",
    "from sklearn.preprocessing import PolynomialFeatures, scale, FunctionTransformer\n",
    "from sklearn.model_selection import train_test_split\n",
    "from sklearn.metrics import confusion_matrix\n",
    "\n",
    "\n",
    "#classifiers\n",
    "from sklearn.linear_model import Perceptron\n",
    "from sklearn.gaussian_process import GaussianProcessClassifier\n",
    "from sklearn.gaussian_process.kernels import RBF\n",
    "from sklearn.ensemble import IsolationForest, RandomForestClassifier, AdaBoostClassifier\n",
    "from sklearn.tree import DecisionTreeClassifier\n",
    "from sklearn.svm import SVC\n",
    "from sklearn.neural_network import MLPClassifier\n",
    "from sklearn.neighbors import KNeighborsClassifier\n",
    "from sklearn.naive_bayes import GaussianNB\n",
    "from sklearn.discriminant_analysis import QuadraticDiscriminantAnalysis, LinearDiscriminantAnalysis\n",
    "\n",
    "pd.set_option('display.max_columns', 100) # to display all columns at all time\n",
    "pd.options.mode.chained_assignment = None # to ignore false-positive warnings about chained assignments"
   ]
  },
  {
   "cell_type": "code",
   "execution_count": 2,
   "metadata": {
    "collapsed": true
   },
   "outputs": [],
   "source": [
    "data = pd.read_csv('ElectionsData.csv',header=0)\n",
    "train = pd.read_csv('modified/afterpp_train.csv', header=0)\n",
    "test = pd.read_csv('modified/afterpp_test.csv', header=0)\n",
    "validation = pd.read_csv('modified/afterpp_validation.csv',header=0)\n",
    "\n",
    "# merged train and test\n",
    "train_test = pd.concat([train, test], keys=['train', 'test'])\n",
    "\n",
    "for df in [train,test,validation,train_test]:\n",
    "    df.drop([x for x in df.columns.values if 'Unnamed' in x],axis=1,inplace=True)"
   ]
  },
  {
   "cell_type": "code",
   "execution_count": 3,
   "metadata": {
    "collapsed": false
   },
   "outputs": [
    {
     "name": "stdout",
     "output_type": "stream",
     "text": [
      "current classifier: Nearest Neighbors\n",
      "Nearest Neighbors L1 score: 194\n",
      "current classifier: Linear SVM\n",
      "Linear SVM L1 score: 484\n",
      "current classifier: RBF SVM\n",
      "RBF SVM L1 score: 348\n",
      "current classifier: Decision Tree\n",
      "Decision Tree L1 score: 56\n",
      "current classifier: Random Forest\n"
     ]
    },
    {
     "name": "stderr",
     "output_type": "stream",
     "text": [
      "/Users/ronsailer/anaconda/lib/python2.7/site-packages/sklearn/neural_network/multilayer_perceptron.py:563: ConvergenceWarning: Stochastic Optimizer: Maximum iterations reached and the optimization hasn't converged yet.\n",
      "  % (), ConvergenceWarning)\n"
     ]
    },
    {
     "name": "stdout",
     "output_type": "stream",
     "text": [
      "Random Forest L1 score: 1670\n",
      "current classifier: Neural Net\n",
      "Neural Net L1 score: 1912\n",
      "current classifier: AdaBoost\n",
      "AdaBoost L1 score: 562\n",
      "current classifier: Naive Bayes\n",
      "Naive Bayes L1 score: 2482\n",
      "current classifier: QDA\n",
      "QDA L1 score: 1644\n",
      "current classifier: LDA\n",
      "LDA L1 score: 1070\n",
      "\n",
      "Best classifier: Decision Tree with score: 56\n"
     ]
    },
    {
     "name": "stderr",
     "output_type": "stream",
     "text": [
      "/Users/ronsailer/anaconda/lib/python2.7/site-packages/sklearn/discriminant_analysis.py:695: UserWarning: Variables are collinear\n",
      "  warnings.warn(\"Variables are collinear\")\n",
      "/Users/ronsailer/anaconda/lib/python2.7/site-packages/sklearn/discriminant_analysis.py:719: RuntimeWarning: divide by zero encountered in power\n",
      "  X2 = np.dot(Xm, R * (S ** (-0.5)))\n",
      "/Users/ronsailer/anaconda/lib/python2.7/site-packages/sklearn/discriminant_analysis.py:719: RuntimeWarning: invalid value encountered in multiply\n",
      "  X2 = np.dot(Xm, R * (S ** (-0.5)))\n",
      "/Users/ronsailer/anaconda/lib/python2.7/site-packages/sklearn/discriminant_analysis.py:722: RuntimeWarning: divide by zero encountered in log\n",
      "  u = np.asarray([np.sum(np.log(s)) for s in self.scalings_])\n",
      "/Users/ronsailer/anaconda/lib/python2.7/site-packages/sklearn/discriminant_analysis.py:387: UserWarning: Variables are collinear.\n",
      "  warnings.warn(\"Variables are collinear.\")\n"
     ]
    }
   ],
   "source": [
    "def pick_best_classifier2(classifiers, names, df,fn,number_of_iterations=1):\n",
    "    data = df.drop(['Vote'],axis=1)\n",
    "    data_labels = df['Vote']\n",
    " \n",
    "    best_score = df.shape[0]*2\n",
    "    best_clf = None\n",
    "    best_clf_name = None\n",
    "\n",
    "    for i in range(number_of_iterations):\n",
    "        if number_of_iterations > 1:\n",
    "            print \"iteration:\",i+1\n",
    "            \n",
    "        X_train, X_test, Y_train, Y_test = train_test_split(data,data_labels)\n",
    "\n",
    "        for name, clf in zip(names, classifiers):\n",
    "            print \"current classifier:\", name\n",
    "            clf.fit(X_train, Y_train)\n",
    "            prediction = clf.predict(X_test)\n",
    "            score = fn(clf.classes_,Y_test, prediction)\n",
    "            print name, \"L1 score:\", score\n",
    "            if score < best_score:\n",
    "                best_clf = clf\n",
    "                best_score = score\n",
    "                best_clf_name = name\n",
    "        print \"\"\n",
    "    print \"Best classifier:\", best_clf_name, \"with score:\", best_score\n",
    "    return best_clf\n",
    "    \n",
    "    \n",
    "#try them all!!! our classifiers, with our parameters are in there\n",
    "#but since this is automatic, let's just try them all and let the best one win!\n",
    "classifiers = [\n",
    "    KNeighborsClassifier(n_neighbors=5, algorithm='ball_tree'),\n",
    "    SVC(kernel=\"linear\", C=1000000),\n",
    "    #SVC(gamma=5, C=1000000),\n",
    "    DecisionTreeClassifier(max_depth=5),\n",
    "    RandomForestClassifier(n_estimators = 60,criterion='gini',n_jobs=-1),\n",
    "    MLPClassifier(alpha=1e-5, hidden_layer_sizes=(5,2)),\n",
    "    AdaBoostClassifier(),\n",
    "    GaussianNB(),\n",
    "    QuadraticDiscriminantAnalysis(),\n",
    "    LinearDiscriminantAnalysis(),\n",
    "    Perceptron()]\n",
    "\n",
    "names = [\"Nearest Neighbors\",\n",
    "         \"Linear SVM\",\n",
    "         \"RBF SVM\",\n",
    "         \"Decision Tree\",\n",
    "         \"Random Forest\",\n",
    "         \"Neural Net\",\n",
    "         \"AdaBoost\",\n",
    "         \"Naive Bayes\",\n",
    "         \"QDA\",\n",
    "         \"LDA\",\n",
    "         \"Perceptron\"]\n",
    "\n",
    "def L1(classes,actual,predicted):\n",
    "    c = Counter()\n",
    "    for i in range(len(predicted)):\n",
    "        c[predicted[i]] += 1\n",
    "    values_actual = actual.value_counts()\n",
    "    return sum(abs(values_actual[cls]-c[cls]) for cls in classes)\n",
    "\n",
    "clf2 = pick_best_classifier2(classifiers, names, train, L1, 1)"
   ]
  },
  {
   "cell_type": "code",
   "execution_count": 6,
   "metadata": {
    "collapsed": false
   },
   "outputs": [
    {
     "data": {
      "image/png": "[encoded data removed]",
      "text/plain": [
       "<matplotlib.figure.Figure at 0x10fdb7750>"
      ]
     },
     "metadata": {},
     "output_type": "display_data"
    }
   ],
   "source": [
    "#Fit to the training set and predict on the test set\n",
    "train_data = train.drop(['Vote'],axis=1)\n",
    "train_data_labels = train['Vote']\n",
    "\n",
    "test_data = test.drop(['Vote'],axis=1)\n",
    "test_labels = test['Vote']\n",
    "\n",
    "predictions = clf2.predict(test_data)\n",
    "\n",
    "c = Counter()\n",
    "for i in range(len(predictions)):\n",
    "    c[predictions[i]] += 1\n",
    "    \n",
    "c = c.most_common()\n",
    "parties, votes = zip(*[x for x in c])\n",
    "\n",
    "colors = [x[:-1] if x != 'Whites' else 'navajowhite' for x in parties]\n",
    "\n",
    "f, ax = plt.subplots(figsize=(20, 10))\n",
    "f.suptitle('Number of predicted votes',fontsize=20)\n",
    "ax.bar(range(len(c)), [x[1] for x in c], align=\"center\",color=colors)\n",
    "plt.xticks(range(len(c)), parties, rotation=30)\n",
    "\n",
    "plt.show()"
   ]
  },
  {
   "cell_type": "code",
   "execution_count": null,
   "metadata": {
    "collapsed": true
   },
   "outputs": [],
   "source": []
  }
 ],
 "metadata": {
  "kernelspec": {
   "display_name": "Python 2",
   "language": "python",
   "name": "python2"
  },
  "language_info": {
   "codemirror_mode": {
    "name": "ipython",
    "version": 2
   },
   "file_extension": ".py",
   "mimetype": "text/x-python",
   "name": "python",
   "nbconvert_exporter": "python",
   "pygments_lexer": "ipython2",
   "version": "2.7.13"
  }
 },
 "nbformat": 4,
 "nbformat_minor": 2
}
